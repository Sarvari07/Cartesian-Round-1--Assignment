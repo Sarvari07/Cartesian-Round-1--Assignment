{
 "cells": [
  {
   "cell_type": "markdown",
   "id": "6cbb624a",
   "metadata": {},
   "source": [
    "# prints each word in reverse."
   ]
  },
  {
   "cell_type": "code",
   "execution_count": 1,
   "id": "057b13ad",
   "metadata": {},
   "outputs": [
    {
     "name": "stdout",
     "output_type": "stream",
     "text": [
      "\"This declaration represents a political commitment among declaration partners to advance a positive vision for the Internet in this era of a united europe.\"\n",
      "Europe.\" united a of era this in internet the for vision positive a advance to partners declaration among commitment political a represents declaration \"this\n"
     ]
    }
   ],
   "source": [
    "new_string=input()\n",
    "a=new_string.split(' ')\n",
    "reverse_string=' '.join(a[::-1]).lower()\n",
    "b=reverse_string.capitalize()\n",
    "print(b)"
   ]
  },
  {
   "cell_type": "markdown",
   "id": "8c50090a",
   "metadata": {},
   "source": [
    "# prints Top 2 occurring words in sorted order. The words that have occurred most of the time."
   ]
  },
  {
   "cell_type": "code",
   "execution_count": 2,
   "id": "7fab377b",
   "metadata": {},
   "outputs": [
    {
     "name": "stdout",
     "output_type": "stream",
     "text": [
      "a\n",
      "A\n",
      "[('A', 1)]\n"
     ]
    }
   ],
   "source": [
    "new_string=input()\n",
    "a=new_string.split(' ')\n",
    "reverse_string=' '.join(a[::-1]).lower()\n",
    "b=reverse_string.capitalize()\n",
    "print(b)\n",
    "from collections import Counter\n",
    "split_it = b.split()\n",
    "Counter = Counter(split_it)\n",
    "most_occur = Counter.most_common(2)\n",
    "print(most_occur)"
   ]
  },
  {
   "cell_type": "markdown",
   "id": "1dd91d18",
   "metadata": {},
   "source": [
    "# ASSIGNMENT-02SQL"
   ]
  },
  {
   "cell_type": "markdown",
   "id": "4dbbea9e",
   "metadata": {},
   "source": [
    "# There is a Customer Table having a single column with list of customer id. There is a Voucher table having a single column with list of voucher ids.\n",
    "# Develop a query that will assign one voucher to one customer and vice versa. Two customers will not get same voucher. Two Voucher will not be assigned to a single customer."
   ]
  },
  {
   "cell_type": "markdown",
   "id": "e4bf21c1",
   "metadata": {},
   "source": [
    "CREATE TABLE Customer (Customer_Id varchar(255));\n",
    " INSERT INTO Customer VALUES('Customer_Id'),('Abhinash'),('Vipin'),('Mahesh'),('Bijoy'),('Bhabani'),('Ashutosh')\n",
    "    \n",
    " CREATE TABLE Voucher (Voucher_Id varchar(255) UNIQUE);\n",
    " INSERT INTO Voucher VALUES('ABXFH'),('SDFGH'),('ERTYY'),('PPLKM')\n",
    "    \n",
    " ;with cte \n",
    " as(select *,row_number() over(order by Customer_Id) rr from Customer)\n",
    " ,cte2 as(select *,row_number() over(order by Voucher_Id) rr from Voucher)\n",
    "    \n",
    " select Customer_Id Customer_Key,Voucher_Id Gift_Voucher_Key\n",
    " from cte c1\n",
    " join cte2 c2 on c1.rr=c2.rr"
   ]
  },
  {
   "cell_type": "code",
   "execution_count": null,
   "id": "47205e7c",
   "metadata": {},
   "outputs": [],
   "source": []
  }
 ],
 "metadata": {
  "kernelspec": {
   "display_name": "Python 3 (ipykernel)",
   "language": "python",
   "name": "python3"
  },
  "language_info": {
   "codemirror_mode": {
    "name": "ipython",
    "version": 3
   },
   "file_extension": ".py",
   "mimetype": "text/x-python",
   "name": "python",
   "nbconvert_exporter": "python",
   "pygments_lexer": "ipython3",
   "version": "3.9.7"
  }
 },
 "nbformat": 4,
 "nbformat_minor": 5
}
